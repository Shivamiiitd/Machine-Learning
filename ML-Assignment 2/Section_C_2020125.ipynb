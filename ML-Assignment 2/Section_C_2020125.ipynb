{
  "cells": [
    {
      "cell_type": "code",
      "execution_count": 23,
      "metadata": {
        "id": "RqbGO3g4kDvF"
      },
      "outputs": [],
      "source": [
        "import pandas as pd\n",
        "import numpy as np\n",
        "from sklearn.preprocessing import StandardScaler\n",
        "from sklearn.metrics import *\n",
        "path = \"/content/drive/MyDrive/BitcoinHeistData.csv\"\n",
        "#Reading data from drive\n",
        "df = pd.read_csv(path)\n",
        "#Removing Redundancy\n",
        "df.drop(['address'], axis = 1, inplace = True)\n",
        "df = df.sample(frac = 1,random_state = 1).reset_index()\n",
        "#Standard Scaling\n",
        "sc = StandardScaler()\n",
        "#Train, test, validation set\n",
        "train, validate, test = np.split(df, [int(.7*len(df)), int(.85*len(df))])\n",
        "#Splitting features and output(label)\n",
        "X_train = train.iloc[:,0:-1]\n",
        "X_train = sc.fit_transform(X_train)\n",
        "Y_train = train.iloc[:,-1]\n",
        "X_test = test.iloc[:,0:-1]\n",
        "X_test = sc.fit_transform(X_test)\n",
        "Y_test = test.iloc[:,-1]\n",
        "X_val = validate.iloc[:,0:-1]\n",
        "X_val = sc.fit_transform(X_val)\n",
        "Y_val = validate.iloc[:,-1]"
      ]
    },
    {
      "cell_type": "markdown",
      "source": [
        "Max Depth 4, Criteria - Gini"
      ],
      "metadata": {
        "id": "xKhD5XP5xoz_"
      }
    },
    {
      "cell_type": "code",
      "execution_count": 24,
      "metadata": {
        "colab": {
          "base_uri": "https://localhost:8080/"
        },
        "id": "g5sOCvdsOTml",
        "outputId": "ce2344e3-2f13-48c3-f085-270f1e2069df"
      },
      "outputs": [
        {
          "output_type": "stream",
          "name": "stdout",
          "text": [
            "Accuracy Score for test set is 0.9957211917578085\n",
            "Accuracy Score for val set is 0.971664323836299\n",
            "Recall Score for test set is 0.9957211917578085\n",
            "Recall Score for val set is 0.971664323836299\n",
            "Precision Score for test set is 0.9957211917578085\n",
            "Precision Score for val set is 0.971664323836299\n"
          ]
        }
      ],
      "source": [
        "from sklearn.tree import DecisionTreeClassifier\n",
        "graph_test = []\n",
        "graph_val = []\n",
        "clf = DecisionTreeClassifier(max_depth =4, criterion = \"gini\")\n",
        "#Training Decision Tree\n",
        "clf = clf.fit(X_train, Y_train)\n",
        "pred_test = clf.predict(X_test)\n",
        "val_test = clf.predict(X_val)\n",
        "x_acc = accuracy_score(Y_test, pred_test)\n",
        "y_acc = accuracy_score(Y_test, val_test)\n",
        "x_rec = recall_score(Y_test, pred_test, average = \"micro\")\n",
        "y_rec = recall_score(Y_test, val_test, average = \"micro\")\n",
        "x_pre = precision_score(Y_test, pred_test, average = \"micro\")\n",
        "y_pre = precision_score(Y_test, val_test, average = \"micro\")\n",
        "graph_test.append(x_acc)\n",
        "graph_val.append(y_acc)\n",
        "#Reporting metrics\n",
        "print(\"Accuracy Score for test set is \" + str(x_acc))\n",
        "print(\"Accuracy Score for val set is \" + str(y_acc))\n",
        "print(\"Recall Score for test set is \" + str(x_rec))\n",
        "print(\"Recall Score for val set is \" + str(y_rec))\n",
        "print(\"Precision Score for test set is \" + str(x_pre))\n",
        "print(\"Precision Score for val set is \" + str(y_pre))"
      ]
    },
    {
      "cell_type": "markdown",
      "source": [
        "Max Depth 8, Criteria - Gini"
      ],
      "metadata": {
        "id": "ruW42xe_xvf5"
      }
    },
    {
      "cell_type": "code",
      "execution_count": 25,
      "metadata": {
        "colab": {
          "base_uri": "https://localhost:8080/"
        },
        "id": "SSdedXSDpaCy",
        "outputId": "d7220ce0-939e-44ae-a170-b1b4cb54ca0c"
      },
      "outputs": [
        {
          "output_type": "stream",
          "name": "stdout",
          "text": [
            "Accuracy Score for test set is 0.9963291848093164\n",
            "Accuracy Score for val set is 0.9716506097073176\n",
            "Recall Score for test set is 0.9963291848093164\n",
            "Recall Score for val set is 0.9716506097073176\n",
            "Precision Score for test set is 0.9963291848093164\n",
            "Precision Score for val set is 0.9716506097073176\n"
          ]
        }
      ],
      "source": [
        "clf = DecisionTreeClassifier(max_depth = 8, criterion = \"gini\")\n",
        "#Training Decision Tree\n",
        "clf = clf.fit(X_train, Y_train)\n",
        "pred_test = clf.predict(X_test)\n",
        "val_test = clf.predict(X_val)\n",
        "x_acc = accuracy_score(Y_test, pred_test)\n",
        "y_acc = accuracy_score(Y_test, val_test)\n",
        "x_rec = recall_score(Y_test, pred_test, average = \"micro\")\n",
        "y_rec = recall_score(Y_test, val_test, average = \"micro\")\n",
        "x_pre = precision_score(Y_test, pred_test, average = \"micro\")\n",
        "y_pre = precision_score(Y_test, val_test, average = \"micro\")\n",
        "graph_test.append(x_acc)\n",
        "graph_val.append(y_acc)\n",
        "#Reporting metrics\n",
        "print(\"Accuracy Score for test set is \" + str(x_acc))\n",
        "print(\"Accuracy Score for val set is \" + str(y_acc))\n",
        "print(\"Recall Score for test set is \" + str(x_rec))\n",
        "print(\"Recall Score for val set is \" + str(y_rec))\n",
        "print(\"Precision Score for test set is \" + str(x_pre))\n",
        "print(\"Precision Score for val set is \" + str(y_pre))"
      ]
    },
    {
      "cell_type": "markdown",
      "source": [
        "Max Depth 10, Criteria - Gini"
      ],
      "metadata": {
        "id": "rv1qepnLx1As"
      }
    },
    {
      "cell_type": "code",
      "execution_count": 26,
      "metadata": {
        "colab": {
          "base_uri": "https://localhost:8080/"
        },
        "id": "nynQsigE3XBE",
        "outputId": "746dc1fd-7bb3-4aa6-f29c-76caa1c0151b"
      },
      "outputs": [
        {
          "output_type": "stream",
          "name": "stdout",
          "text": [
            "Accuracy Score for test set is 0.9975017428372247\n",
            "Accuracy Score for val set is 0.9716574667718083\n",
            "Recall Score for test set is 0.9975017428372247\n",
            "Recall Score for val set is 0.9716574667718083\n",
            "Precision Score for test set is 0.9975017428372247\n",
            "Precision Score for val set is 0.9716574667718083\n"
          ]
        }
      ],
      "source": [
        "clf = DecisionTreeClassifier(max_depth = 10, criterion = \"gini\")\n",
        "#Training Decision Tree\n",
        "clf = clf.fit(X_train, Y_train)\n",
        "pred_test = clf.predict(X_test)\n",
        "val_test = clf.predict(X_val)\n",
        "x_acc = accuracy_score(Y_test, pred_test)\n",
        "y_acc = accuracy_score(Y_test, val_test)\n",
        "x_rec = recall_score(Y_test, pred_test, average = \"micro\")\n",
        "y_rec = recall_score(Y_test, val_test, average = \"micro\")\n",
        "x_pre = precision_score(Y_test, pred_test, average = \"micro\")\n",
        "y_pre = precision_score(Y_test, val_test, average = \"micro\")\n",
        "graph_test.append(x_acc)\n",
        "graph_val.append(y_acc)\n",
        "#Reporting metrics\n",
        "print(\"Accuracy Score for test set is \" + str(x_acc))\n",
        "print(\"Accuracy Score for val set is \" + str(y_acc))\n",
        "print(\"Recall Score for test set is \" + str(x_rec))\n",
        "print(\"Recall Score for val set is \" + str(y_rec))\n",
        "print(\"Precision Score for test set is \" + str(x_pre))\n",
        "print(\"Precision Score for val set is \" + str(y_pre))"
      ]
    },
    {
      "cell_type": "markdown",
      "source": [
        "Max Depth 15, Criteria - Gini"
      ],
      "metadata": {
        "id": "2xPpMYHEx3Ee"
      }
    },
    {
      "cell_type": "code",
      "execution_count": 27,
      "metadata": {
        "colab": {
          "base_uri": "https://localhost:8080/"
        },
        "id": "qRULoSqt3XmK",
        "outputId": "cb6d380b-11d2-430f-9c75-082d94ad65cf"
      },
      "outputs": [
        {
          "output_type": "stream",
          "name": "stdout",
          "text": [
            "Accuracy Score for test set is 0.9969166066673524\n",
            "Accuracy Score for val set is 0.9716620381481355\n",
            "Recall Score for test set is 0.9969166066673524\n",
            "Recall Score for val set is 0.9716620381481355\n",
            "Precision Score for test set is 0.9969166066673524\n",
            "Precision Score for val set is 0.9716620381481355\n"
          ]
        }
      ],
      "source": [
        "clf = DecisionTreeClassifier(max_depth = 15, criterion = \"gini\")\n",
        "#Training Decision Tree\n",
        "clf = clf.fit(X_train, Y_train)\n",
        "pred_test = clf.predict(X_test)\n",
        "val_test = clf.predict(X_val)\n",
        "x_acc = accuracy_score(Y_test, pred_test)\n",
        "y_acc = accuracy_score(Y_test, val_test)\n",
        "x_rec = recall_score(Y_test, pred_test, average = \"micro\")\n",
        "y_rec = recall_score(Y_test, val_test, average = \"micro\")\n",
        "x_pre = precision_score(Y_test, pred_test, average = \"micro\")\n",
        "y_pre = precision_score(Y_test, val_test, average = \"micro\")\n",
        "graph_test.append(x_acc)\n",
        "graph_val.append(y_acc)\n",
        "#Reporting metrics\n",
        "print(\"Accuracy Score for test set is \" + str(x_acc))\n",
        "print(\"Accuracy Score for val set is \" + str(y_acc))\n",
        "print(\"Recall Score for test set is \" + str(x_rec))\n",
        "print(\"Recall Score for val set is \" + str(y_rec))\n",
        "print(\"Precision Score for test set is \" + str(x_pre))\n",
        "print(\"Precision Score for val set is \" + str(y_pre))"
      ]
    },
    {
      "cell_type": "markdown",
      "source": [
        "Max Depth 20, Criteria - Gini"
      ],
      "metadata": {
        "id": "0XelxgWYx5ED"
      }
    },
    {
      "cell_type": "code",
      "execution_count": 28,
      "metadata": {
        "colab": {
          "base_uri": "https://localhost:8080/"
        },
        "id": "O9nIvngJ3YNh",
        "outputId": "6575ae19-c61f-4547-d432-a4b577afa586"
      },
      "outputs": [
        {
          "output_type": "stream",
          "name": "stdout",
          "text": [
            "Accuracy Score for test set is 0.9967451800550851\n",
            "Accuracy Score for val set is 0.9716597524599719\n",
            "Recall Score for test set is 0.9967451800550851\n",
            "Recall Score for val set is 0.9716597524599719\n",
            "Precision Score for test set is 0.9967451800550851\n",
            "Precision Score for val set is 0.9716597524599719\n"
          ]
        }
      ],
      "source": [
        "clf = DecisionTreeClassifier(max_depth = 20, criterion = \"gini\")\n",
        "#Training Decision Tree\n",
        "clf = clf.fit(X_train, Y_train)\n",
        "pred_test = clf.predict(X_test)\n",
        "val_test = clf.predict(X_val)\n",
        "x_acc = accuracy_score(Y_test, pred_test)\n",
        "y_acc = accuracy_score(Y_test, val_test)\n",
        "x_rec = recall_score(Y_test, pred_test, average = \"micro\")\n",
        "y_rec = recall_score(Y_test, val_test, average = \"micro\")\n",
        "x_pre = precision_score(Y_test, pred_test, average = \"micro\")\n",
        "y_pre = precision_score(Y_test, val_test, average = \"micro\")\n",
        "graph_test.append(x_acc)\n",
        "graph_val.append(y_acc)\n",
        "#Reporting metrics\n",
        "print(\"Accuracy Score for test set is \" + str(x_acc))\n",
        "print(\"Accuracy Score for val set is \" + str(y_acc))\n",
        "print(\"Recall Score for test set is \" + str(x_rec))\n",
        "print(\"Recall Score for val set is \" + str(y_rec))\n",
        "print(\"Precision Score for test set is \" + str(x_pre))\n",
        "print(\"Precision Score for val set is \" + str(y_pre))"
      ]
    },
    {
      "cell_type": "markdown",
      "source": [
        "Validation vs Testing accuracy (gini)"
      ],
      "metadata": {
        "id": "dZR6pVlLYJSf"
      }
    },
    {
      "cell_type": "code",
      "source": [
        "import matplotlib.pyplot as plt\n",
        "depth = [4,8,10,15,20]\n",
        "plt.plot(depth, graph_test, 'b', label='Testing')\n",
        "plt.plot(depth, graph_val, 'g', label='Validation')\n",
        "plt.xlabel('Max-depth')\n",
        "plt.ylabel('Accuracy Score')\n",
        "plt.legend()\n",
        "plt.ylim(0.9,1)\n",
        "plt.show()"
      ],
      "metadata": {
        "colab": {
          "base_uri": "https://localhost:8080/",
          "height": 283
        },
        "id": "gJ_7lW6IXJDJ",
        "outputId": "c158c52d-6abe-4c74-c4c0-6287a2b3954c"
      },
      "execution_count": 30,
      "outputs": [
        {
          "output_type": "display_data",
          "data": {
            "text/plain": [
              "<Figure size 432x288 with 1 Axes>"
            ],
            "image/png": "[encoded data removed]"
          },
          "metadata": {
            "needs_background": "light"
          }
        }
      ]
    },
    {
      "cell_type": "markdown",
      "source": [
        "Max Depth 4, Criteria - entropy"
      ],
      "metadata": {
        "id": "q1abtU5FyW94"
      }
    },
    {
      "cell_type": "code",
      "execution_count": 31,
      "metadata": {
        "colab": {
          "base_uri": "https://localhost:8080/"
        },
        "id": "E99MRiKjc3Y3",
        "outputId": "4f3d79c6-2e26-4bb7-bd34-15d074251178"
      },
      "outputs": [
        {
          "output_type": "stream",
          "name": "stdout",
          "text": [
            "Accuracy Score for test set is 0.9957211917578085\n",
            "Accuracy Score for val set is 0.971664323836299\n",
            "Recall Score for test set is 0.9957211917578085\n",
            "Recall Score for val set is 0.971664323836299\n",
            "Precision Score for test set is 0.9957211917578085\n",
            "Precision Score for val set is 0.971664323836299\n"
          ]
        }
      ],
      "source": [
        "clf = DecisionTreeClassifier(max_depth = 4, criterion = \"entropy\")\n",
        "graph_test = []\n",
        "graph_val = []\n",
        "#Training Decision Tree\n",
        "clf = clf.fit(X_train, Y_train)\n",
        "pred_test = clf.predict(X_test)\n",
        "val_test = clf.predict(X_val)\n",
        "x_acc = accuracy_score(Y_test, pred_test)\n",
        "y_acc = accuracy_score(Y_test, val_test)\n",
        "x_rec = recall_score(Y_test, pred_test, average = \"micro\")\n",
        "y_rec = recall_score(Y_test, val_test, average = \"micro\")\n",
        "x_pre = precision_score(Y_test, pred_test, average = \"micro\")\n",
        "y_pre = precision_score(Y_test, val_test, average = \"micro\")\n",
        "graph_test.append(x_acc)\n",
        "graph_val.append(y_acc)\n",
        "#Reporting metrics\n",
        "print(\"Accuracy Score for test set is \" + str(x_acc))\n",
        "print(\"Accuracy Score for val set is \" + str(y_acc))\n",
        "print(\"Recall Score for test set is \" + str(x_rec))\n",
        "print(\"Recall Score for val set is \" + str(y_rec))\n",
        "print(\"Precision Score for test set is \" + str(x_pre))\n",
        "print(\"Precision Score for val set is \" + str(y_pre))"
      ]
    },
    {
      "cell_type": "markdown",
      "source": [
        "Max Depth 8, Criteria - entropy"
      ],
      "metadata": {
        "id": "iOuVR4BbyaXs"
      }
    },
    {
      "cell_type": "code",
      "execution_count": 32,
      "metadata": {
        "colab": {
          "base_uri": "https://localhost:8080/"
        },
        "id": "ljlGlMi899rh",
        "outputId": "c6f426c6-daf5-4c4e-93a4-b07d27d2f904"
      },
      "outputs": [
        {
          "output_type": "stream",
          "name": "stdout",
          "text": [
            "Accuracy Score for test set is 0.9962674712289002\n",
            "Accuracy Score for val set is 0.9716506097073176\n",
            "Recall Score for test set is 0.9962674712289002\n",
            "Recall Score for val set is 0.9716506097073176\n",
            "Precision Score for test set is 0.9962674712289002\n",
            "Precision Score for val set is 0.9716506097073176\n"
          ]
        }
      ],
      "source": [
        "clf = DecisionTreeClassifier(max_depth = 8, criterion = \"entropy\")\n",
        "#Training Decision Tree\n",
        "clf = clf.fit(X_train, Y_train)\n",
        "pred_test = clf.predict(X_test)\n",
        "val_test = clf.predict(X_val)\n",
        "x_acc = accuracy_score(Y_test, pred_test)\n",
        "y_acc = accuracy_score(Y_test, val_test)\n",
        "x_rec = recall_score(Y_test, pred_test, average = \"micro\")\n",
        "y_rec = recall_score(Y_test, val_test, average = \"micro\")\n",
        "x_pre = precision_score(Y_test, pred_test, average = \"micro\")\n",
        "y_pre = precision_score(Y_test, val_test, average = \"micro\")\n",
        "graph_test.append(x_acc)\n",
        "graph_val.append(y_acc)\n",
        "#Reporting metrics\n",
        "print(\"Accuracy Score for test set is \" + str(x_acc))\n",
        "print(\"Accuracy Score for val set is \" + str(y_acc))\n",
        "print(\"Recall Score for test set is \" + str(x_rec))\n",
        "print(\"Recall Score for val set is \" + str(y_rec))\n",
        "print(\"Precision Score for test set is \" + str(x_pre))\n",
        "print(\"Precision Score for val set is \" + str(y_pre))"
      ]
    },
    {
      "cell_type": "markdown",
      "source": [
        "Max Depth 10, Criteria - entropy"
      ],
      "metadata": {
        "id": "4jKR8V7KybHl"
      }
    },
    {
      "cell_type": "code",
      "execution_count": 33,
      "metadata": {
        "colab": {
          "base_uri": "https://localhost:8080/"
        },
        "id": "QHup7qnu9-cK",
        "outputId": "cf61c379-6198-4f4d-8f81-a01e10102764"
      },
      "outputs": [
        {
          "output_type": "stream",
          "name": "stdout",
          "text": [
            "Accuracy Score for test set is 0.9974171723751728\n",
            "Accuracy Score for val set is 0.9716597524599719\n",
            "Recall Score for test set is 0.9974171723751728\n",
            "Recall Score for val set is 0.9716597524599719\n",
            "Precision Score for test set is 0.9974171723751728\n",
            "Precision Score for val set is 0.9716597524599719\n"
          ]
        }
      ],
      "source": [
        "clf = DecisionTreeClassifier(max_depth = 10, criterion = \"entropy\")\n",
        "#Training Decision Tree\n",
        "clf = clf.fit(X_train, Y_train)\n",
        "pred_test = clf.predict(X_test)\n",
        "val_test = clf.predict(X_val)\n",
        "x_acc = accuracy_score(Y_test, pred_test)\n",
        "y_acc = accuracy_score(Y_test, val_test)\n",
        "x_rec = recall_score(Y_test, pred_test, average = \"micro\")\n",
        "y_rec = recall_score(Y_test, val_test, average = \"micro\")\n",
        "x_pre = precision_score(Y_test, pred_test, average = \"micro\")\n",
        "y_pre = precision_score(Y_test, val_test, average = \"micro\")\n",
        "graph_test.append(x_acc)\n",
        "graph_val.append(y_acc)\n",
        "#Reporting metrics\n",
        "print(\"Accuracy Score for test set is \" + str(x_acc))\n",
        "print(\"Accuracy Score for val set is \" + str(y_acc))\n",
        "print(\"Recall Score for test set is \" + str(x_rec))\n",
        "print(\"Recall Score for val set is \" + str(y_rec))\n",
        "print(\"Precision Score for test set is \" + str(x_pre))\n",
        "print(\"Precision Score for val set is \" + str(y_pre))"
      ]
    },
    {
      "cell_type": "markdown",
      "source": [
        "Max Depth 15, Criteria - entropy"
      ],
      "metadata": {
        "id": "NcJfr1J_yb02"
      }
    },
    {
      "cell_type": "code",
      "execution_count": 34,
      "metadata": {
        "colab": {
          "base_uri": "https://localhost:8080/"
        },
        "id": "6J0fOeQY9_In",
        "outputId": "63fd3539-5e98-4d62-b34a-c42fb70c77ae"
      },
      "outputs": [
        {
          "output_type": "stream",
          "name": "stdout",
          "text": [
            "Accuracy Score for test set is 0.9967588941840665\n",
            "Accuracy Score for val set is 0.9716597524599719\n",
            "Recall Score for test set is 0.9967588941840665\n",
            "Recall Score for val set is 0.9716597524599719\n",
            "Precision Score for test set is 0.9967588941840665\n",
            "Precision Score for val set is 0.9716597524599719\n"
          ]
        }
      ],
      "source": [
        "clf = DecisionTreeClassifier(max_depth = 15, criterion = \"entropy\")\n",
        "#Training Decision Tree\n",
        "clf = clf.fit(X_train, Y_train)\n",
        "pred_test = clf.predict(X_test)\n",
        "val_test = clf.predict(X_val)\n",
        "x_acc = accuracy_score(Y_test, pred_test)\n",
        "y_acc = accuracy_score(Y_test, val_test)\n",
        "x_rec = recall_score(Y_test, pred_test, average = \"micro\")\n",
        "y_rec = recall_score(Y_test, val_test, average = \"micro\")\n",
        "x_pre = precision_score(Y_test, pred_test, average = \"micro\")\n",
        "y_pre = precision_score(Y_test, val_test, average = \"micro\")\n",
        "graph_test.append(x_acc)\n",
        "graph_val.append(y_acc)\n",
        "#Reporting metrics\n",
        "print(\"Accuracy Score for test set is \" + str(x_acc))\n",
        "print(\"Accuracy Score for val set is \" + str(y_acc))\n",
        "print(\"Recall Score for test set is \" + str(x_rec))\n",
        "print(\"Recall Score for val set is \" + str(y_rec))\n",
        "print(\"Precision Score for test set is \" + str(x_pre))\n",
        "print(\"Precision Score for val set is \" + str(y_pre))"
      ]
    },
    {
      "cell_type": "markdown",
      "source": [
        "Max Depth 20, Criteria - entropy"
      ],
      "metadata": {
        "id": "_NeNLWGPyeei"
      }
    },
    {
      "cell_type": "code",
      "execution_count": 35,
      "metadata": {
        "colab": {
          "base_uri": "https://localhost:8080/"
        },
        "id": "TvXQ_hMV9_tV",
        "outputId": "db9a0b95-141e-4721-818a-7eb834094c88"
      },
      "outputs": [
        {
          "output_type": "stream",
          "name": "stdout",
          "text": [
            "Accuracy Score for test set is 0.9965051827979109\n",
            "Accuracy Score for val set is 0.9716551810836448\n",
            "Recall Score for test set is 0.9965051827979109\n",
            "Recall Score for val set is 0.9716551810836448\n",
            "Precision Score for test set is 0.9965051827979109\n",
            "Precision Score for val set is 0.9716551810836448\n"
          ]
        }
      ],
      "source": [
        "clf = DecisionTreeClassifier(max_depth = 20, criterion = \"entropy\")\n",
        "#Training Decision Tree\n",
        "clf = clf.fit(X_train, Y_train)\n",
        "pred_test = clf.predict(X_test)\n",
        "val_test = clf.predict(X_val)\n",
        "x_acc = accuracy_score(Y_test, pred_test)\n",
        "y_acc = accuracy_score(Y_test, val_test)\n",
        "x_rec = recall_score(Y_test, pred_test, average = \"micro\")\n",
        "y_rec = recall_score(Y_test, val_test, average = \"micro\")\n",
        "x_pre = precision_score(Y_test, pred_test, average = \"micro\")\n",
        "y_pre = precision_score(Y_test, val_test, average = \"micro\")\n",
        "graph_test.append(x_acc)\n",
        "graph_val.append(y_acc)\n",
        "#Reporting metrics\n",
        "print(\"Accuracy Score for test set is \" + str(x_acc))\n",
        "print(\"Accuracy Score for val set is \" + str(y_acc))\n",
        "print(\"Recall Score for test set is \" + str(x_rec))\n",
        "print(\"Recall Score for val set is \" + str(y_rec))\n",
        "print(\"Precision Score for test set is \" + str(x_pre))\n",
        "print(\"Precision Score for val set is \" + str(y_pre))"
      ]
    },
    {
      "cell_type": "markdown",
      "source": [
        "Validation vs Testing accuracy (entropy)"
      ],
      "metadata": {
        "id": "ccmvww89YZPl"
      }
    },
    {
      "cell_type": "code",
      "source": [
        "depth = [4,8,10,15,20]\n",
        "plt.plot(depth, graph_test, 'b', label='Testing')\n",
        "plt.plot(depth, graph_val, 'g', label='Validation')\n",
        "plt.xlabel('Max-depth')\n",
        "plt.ylabel('Accuracy Score')\n",
        "plt.legend()\n",
        "plt.ylim(0.9,1)\n",
        "plt.show()"
      ],
      "metadata": {
        "colab": {
          "base_uri": "https://localhost:8080/",
          "height": 283
        },
        "id": "MulPXQ3OYbp3",
        "outputId": "3f38257f-22da-4730-ddf9-a9e794890cdc"
      },
      "execution_count": 36,
      "outputs": [
        {
          "output_type": "display_data",
          "data": {
            "text/plain": [
              "<Figure size 432x288 with 1 Axes>"
            ],
            "image/png": "[encoded data removed]"
          },
          "metadata": {
            "needs_background": "light"
          }
        }
      ]
    },
    {
      "cell_type": "markdown",
      "source": [
        "Ensembling (Random Forests)"
      ],
      "metadata": {
        "id": "yBU3XowhNNVn"
      }
    },
    {
      "cell_type": "code",
      "execution_count": 12,
      "metadata": {
        "colab": {
          "base_uri": "https://localhost:8080/"
        },
        "id": "wFEhOI92oFxo",
        "outputId": "17004581-0e4e-459d-a80e-c45fe40f3fab"
      },
      "outputs": [
        {
          "output_type": "stream",
          "name": "stdout",
          "text": [
            "Accuracy Score for test set is 0.9954743374361436\n",
            "Accuracy Score for val set is 0.9716803236534439\n",
            "Recall Score for test set is 0.9954743374361436\n",
            "Recall Score for val set is 0.9716803236534439\n",
            "Precision Score for test set is 0.9954743374361436\n",
            "Precision Score for val set is 0.9716803236534439\n"
          ]
        }
      ],
      "source": [
        "from collections import Counter\n",
        "num_test = []\n",
        "val_test = []\n",
        "for i in range(100):\n",
        "  #Taking random 50% of training data\n",
        "  train_new = train.iloc[np.random.choice(train.shape[0], 1020843, replace=True),:]\n",
        "  X_train_new = train_new.iloc[:,0:-1]\n",
        "  #Standard scaling training data\n",
        "  X_train_new = sc.fit_transform(X_train_new)\n",
        "  Y_train_new = train_new.iloc[:,-1]\n",
        "  #Training the model\n",
        "  clf = DecisionTreeClassifier(max_depth = 3, criterion = \"gini\")\n",
        "  clf = clf.fit(X_train_new, Y_train_new)\n",
        "  pred_test = clf.predict(X_test)\n",
        "  val = clf.predict(X_val)\n",
        "  #Appending all the output of weak classifiers\n",
        "  num_test.append(pred_test)\n",
        "  val_test.append(val)\n",
        "num_test = np.array(num_test)\n",
        "val_test = np.array(val_test)\n",
        "test_new = []\n",
        "val_new = []\n",
        "for i in range(437505):\n",
        "  xm = num_test[:,i]\n",
        "  xmv = val_test[:,i]\n",
        "  #Finding the majority output from 100 weak classifiers\n",
        "  test_new.append(Counter(xm).most_common()[0][0])\n",
        "  val_new.append(Counter(xmv).most_common()[0][0])\n",
        "test_new = np.array(test_new)\n",
        "val_new = np.array(val_new)\n",
        "x_test = accuracy_score(Y_test, test_new)\n",
        "x_val = accuracy_score(Y_test, val_new)\n",
        "x_rec = recall_score(Y_test, test_new, average = \"micro\")\n",
        "y_rec = recall_score(Y_test, val_new, average = \"micro\")\n",
        "x_pre = precision_score(Y_test, test_new, average = \"micro\")\n",
        "y_pre = precision_score(Y_test, val_new, average = \"micro\")\n",
        "#Reporting metrics\n",
        "print(\"Accuracy Score for test set is \" + str(x_test))\n",
        "print(\"Accuracy Score for val set is \" + str(x_val))\n",
        "print(\"Recall Score for test set is \" + str(x_rec))\n",
        "print(\"Recall Score for val set is \" + str(y_rec))\n",
        "print(\"Precision Score for test set is \" + str(x_pre))\n",
        "print(\"Precision Score for val set is \" + str(y_pre))"
      ]
    },
    {
      "cell_type": "markdown",
      "source": [
        "AdaBoost Classifier - Decision tree with max depth 10 and criteria gini\n",
        "number of estimators = 4"
      ],
      "metadata": {
        "id": "NEPLfKlmU-2X"
      }
    },
    {
      "cell_type": "code",
      "execution_count": 37,
      "metadata": {
        "colab": {
          "base_uri": "https://localhost:8080/"
        },
        "id": "sk2OW8tgR3zw",
        "outputId": "33ffb1dc-9c82-453b-b440-4437058a960c"
      },
      "outputs": [
        {
          "output_type": "stream",
          "name": "stdout",
          "text": [
            "Accuracy Score for test set is 0.9971520325481994\n",
            "Accuracy Score for val set is 0.9716620381481355\n",
            "Recall Score for test set is 0.9971520325481994\n",
            "Recall Score for val set is 0.9716620381481355\n",
            "Precision Score for test set is 0.9971520325481994\n",
            "Precision Score for val set is 0.9716620381481355\n"
          ]
        }
      ],
      "source": [
        "from sklearn.ensemble import AdaBoostClassifier\n",
        "#Base estimator is that decision tree with maximum accuracy\n",
        "graph_test = []\n",
        "graph_val = []\n",
        "clf = AdaBoostClassifier(n_estimators=4, base_estimator=DecisionTreeClassifier(max_depth=10, criterion = \"gini\"), random_state=0)\n",
        "clf.fit(X_train, Y_train)\n",
        "pred_test = clf.predict(X_test)\n",
        "val_test = clf.predict(X_val)\n",
        "x_acc = accuracy_score(Y_test, pred_test)\n",
        "y_acc = accuracy_score(Y_test, val_test)\n",
        "x_rec = recall_score(Y_test, pred_test, average = \"micro\")\n",
        "y_rec = recall_score(Y_test, val_test, average = \"micro\")\n",
        "x_pre = precision_score(Y_test, pred_test, average = \"micro\")\n",
        "y_pre = precision_score(Y_test, val_test, average = \"micro\")\n",
        "graph_test.append(x_acc)\n",
        "graph_val.append(y_acc)\n",
        "#Reporting metrics\n",
        "print(\"Accuracy Score for test set is \" + str(x_acc))\n",
        "print(\"Accuracy Score for val set is \" + str(y_acc))\n",
        "print(\"Recall Score for test set is \" + str(x_rec))\n",
        "print(\"Recall Score for val set is \" + str(y_rec))\n",
        "print(\"Precision Score for test set is \" + str(x_pre))\n",
        "print(\"Precision Score for val set is \" + str(y_pre))"
      ]
    },
    {
      "cell_type": "markdown",
      "source": [
        "number of estimators = 8"
      ],
      "metadata": {
        "id": "xPkEcJCeSsf3"
      }
    },
    {
      "cell_type": "code",
      "execution_count": 38,
      "metadata": {
        "colab": {
          "base_uri": "https://localhost:8080/"
        },
        "id": "6ha1eRLLScJe",
        "outputId": "9f241eea-dd8a-4447-e0bf-4f7a67b2410a"
      },
      "outputs": [
        {
          "output_type": "stream",
          "name": "stdout",
          "text": [
            "Accuracy Score for test set is 0.9970560336453298\n",
            "Accuracy Score for val set is 0.9716620381481355\n",
            "Recall Score for test set is 0.9970560336453298\n",
            "Recall Score for val set is 0.9716620381481355\n",
            "Precision Score for test set is 0.9970560336453298\n",
            "Precision Score for val set is 0.9716620381481355\n"
          ]
        }
      ],
      "source": [
        "from sklearn.ensemble import AdaBoostClassifier\n",
        "#Base estimator is that decision tree with maximum accuracy\n",
        "clf = AdaBoostClassifier(n_estimators=8, base_estimator=DecisionTreeClassifier(max_depth=10, criterion = \"gini\"), random_state=0)\n",
        "clf.fit(X_train, Y_train)\n",
        "pred_test = clf.predict(X_test)\n",
        "val_test = clf.predict(X_val)\n",
        "x_acc = accuracy_score(Y_test, pred_test)\n",
        "y_acc = accuracy_score(Y_test, val_test)\n",
        "x_rec = recall_score(Y_test, pred_test, average = \"micro\")\n",
        "y_rec = recall_score(Y_test, val_test, average = \"micro\")\n",
        "x_pre = precision_score(Y_test, pred_test, average = \"micro\")\n",
        "y_pre = precision_score(Y_test, val_test, average = \"micro\")\n",
        "graph_test.append(x_acc)\n",
        "graph_val.append(y_acc)\n",
        "#Reporting metrics\n",
        "print(\"Accuracy Score for test set is \" + str(x_acc))\n",
        "print(\"Accuracy Score for val set is \" + str(y_acc))\n",
        "print(\"Recall Score for test set is \" + str(x_rec))\n",
        "print(\"Recall Score for val set is \" + str(y_rec))\n",
        "print(\"Precision Score for test set is \" + str(x_pre))\n",
        "print(\"Precision Score for val set is \" + str(y_pre))"
      ]
    },
    {
      "cell_type": "markdown",
      "source": [
        "number of estimators = 10"
      ],
      "metadata": {
        "id": "7SBILBuBSwKR"
      }
    },
    {
      "cell_type": "code",
      "execution_count": 39,
      "metadata": {
        "colab": {
          "base_uri": "https://localhost:8080/"
        },
        "id": "90gdFbeOScu0",
        "outputId": "d8abac48-7406-41fa-9f88-6df72b7bc7ed"
      },
      "outputs": [
        {
          "output_type": "stream",
          "name": "stdout",
          "text": [
            "Accuracy Score for test set is 0.9970834619032926\n",
            "Accuracy Score for val set is 0.9716574667718083\n",
            "Recall Score for test set is 0.9970834619032926\n",
            "Recall Score for val set is 0.9716574667718083\n",
            "Precision Score for test set is 0.9970834619032926\n",
            "Precision Score for val set is 0.9716574667718083\n"
          ]
        }
      ],
      "source": [
        "from sklearn.ensemble import AdaBoostClassifier\n",
        "#Base estimator is that decision tree with maximum accuracy\n",
        "clf = AdaBoostClassifier(n_estimators=10, base_estimator=DecisionTreeClassifier(max_depth=10, criterion = \"gini\"), random_state=0)\n",
        "clf.fit(X_train, Y_train)\n",
        "pred_test = clf.predict(X_test)\n",
        "val_test = clf.predict(X_val)\n",
        "x_acc = accuracy_score(Y_test, pred_test)\n",
        "y_acc = accuracy_score(Y_test, val_test)\n",
        "x_rec = recall_score(Y_test, pred_test, average = \"micro\")\n",
        "y_rec = recall_score(Y_test, val_test, average = \"micro\")\n",
        "x_pre = precision_score(Y_test, pred_test, average = \"micro\")\n",
        "y_pre = precision_score(Y_test, val_test, average = \"micro\")\n",
        "graph_test.append(x_acc)\n",
        "graph_val.append(y_acc)\n",
        "#Reporting metrics\n",
        "print(\"Accuracy Score for test set is \" + str(x_acc))\n",
        "print(\"Accuracy Score for val set is \" + str(y_acc))\n",
        "print(\"Recall Score for test set is \" + str(x_rec))\n",
        "print(\"Recall Score for val set is \" + str(y_rec))\n",
        "print(\"Precision Score for test set is \" + str(x_pre))\n",
        "print(\"Precision Score for val set is \" + str(y_pre))"
      ]
    },
    {
      "cell_type": "markdown",
      "source": [
        "number of estimators = 15"
      ],
      "metadata": {
        "id": "bVp1iNgXSyhw"
      }
    },
    {
      "cell_type": "code",
      "execution_count": 40,
      "metadata": {
        "colab": {
          "base_uri": "https://localhost:8080/"
        },
        "id": "Etr7amMWSdYh",
        "outputId": "0a26105e-8c9d-4c7f-c96d-6d0a260edebd"
      },
      "outputs": [
        {
          "output_type": "stream",
          "name": "stdout",
          "text": [
            "Accuracy Score for test set is 0.9972526028273963\n",
            "Accuracy Score for val set is 0.9716574667718083\n",
            "Recall Score for test set is 0.9972526028273963\n",
            "Recall Score for val set is 0.9716574667718083\n",
            "Precision Score for test set is 0.9972526028273963\n",
            "Precision Score for val set is 0.9716574667718083\n"
          ]
        }
      ],
      "source": [
        "from sklearn.ensemble import AdaBoostClassifier\n",
        "#Base estimator is that decision tree with maximum accuracy\n",
        "clf = AdaBoostClassifier(n_estimators=15, base_estimator=DecisionTreeClassifier(max_depth=10, criterion = \"gini\"), random_state=0)\n",
        "clf.fit(X_train, Y_train)\n",
        "pred_test = clf.predict(X_test)\n",
        "val_test = clf.predict(X_val)\n",
        "x_acc = accuracy_score(Y_test, pred_test)\n",
        "y_acc = accuracy_score(Y_test, val_test)\n",
        "x_rec = recall_score(Y_test, pred_test, average = \"micro\")\n",
        "y_rec = recall_score(Y_test, val_test, average = \"micro\")\n",
        "x_pre = precision_score(Y_test, pred_test, average = \"micro\")\n",
        "y_pre = precision_score(Y_test, val_test, average = \"micro\")\n",
        "graph_test.append(x_acc)\n",
        "graph_val.append(y_acc)\n",
        "#Reporting metrics\n",
        "print(\"Accuracy Score for test set is \" + str(x_acc))\n",
        "print(\"Accuracy Score for val set is \" + str(y_acc))\n",
        "print(\"Recall Score for test set is \" + str(x_rec))\n",
        "print(\"Recall Score for val set is \" + str(y_rec))\n",
        "print(\"Precision Score for test set is \" + str(x_pre))\n",
        "print(\"Precision Score for val set is \" + str(y_pre))"
      ]
    },
    {
      "cell_type": "markdown",
      "source": [
        "number of estimators = 20"
      ],
      "metadata": {
        "id": "r5fhP2MRSzwy"
      }
    },
    {
      "cell_type": "code",
      "execution_count": 41,
      "metadata": {
        "colab": {
          "base_uri": "https://localhost:8080/"
        },
        "id": "kqeZwkLrSeBT",
        "outputId": "1e7aad43-0da6-434e-8b0c-0472ebf0306a"
      },
      "outputs": [
        {
          "output_type": "stream",
          "name": "stdout",
          "text": [
            "Accuracy Score for test set is 0.9973120307196489\n",
            "Accuracy Score for val set is 0.9716597524599719\n",
            "Recall Score for test set is 0.9973120307196489\n",
            "Recall Score for val set is 0.9716597524599719\n",
            "Precision Score for test set is 0.9973120307196489\n",
            "Precision Score for val set is 0.9716597524599719\n"
          ]
        }
      ],
      "source": [
        "from sklearn.ensemble import AdaBoostClassifier\n",
        "#Base estimator is that decision tree with maximum accuracy\n",
        "clf = AdaBoostClassifier(n_estimators=20, base_estimator=DecisionTreeClassifier(max_depth=10, criterion = \"gini\"), random_state=0)\n",
        "clf.fit(X_train, Y_train)\n",
        "pred_test = clf.predict(X_test)\n",
        "val_test = clf.predict(X_val)\n",
        "x_acc = accuracy_score(Y_test, pred_test)\n",
        "y_acc = accuracy_score(Y_test, val_test)\n",
        "x_rec = recall_score(Y_test, pred_test, average = \"micro\")\n",
        "y_rec = recall_score(Y_test, val_test, average = \"micro\")\n",
        "x_pre = precision_score(Y_test, pred_test, average = \"micro\")\n",
        "y_pre = precision_score(Y_test, val_test, average = \"micro\")\n",
        "graph_test.append(x_acc)\n",
        "graph_val.append(y_acc)\n",
        "#Reporting metrics\n",
        "print(\"Accuracy Score for test set is \" + str(x_acc))\n",
        "print(\"Accuracy Score for val set is \" + str(y_acc))\n",
        "print(\"Recall Score for test set is \" + str(x_rec))\n",
        "print(\"Recall Score for val set is \" + str(y_rec))\n",
        "print(\"Precision Score for test set is \" + str(x_pre))\n",
        "print(\"Precision Score for val set is \" + str(y_pre))"
      ]
    },
    {
      "cell_type": "markdown",
      "source": [
        "Validation vs Testing accuracy (AdaBoost)"
      ],
      "metadata": {
        "id": "9NwVuFPkbB8C"
      }
    },
    {
      "cell_type": "code",
      "source": [
        "estimators = [4,8,10,15,20]\n",
        "plt.plot(estimators, graph_test, 'b', label='Testing')\n",
        "plt.plot(estimators, graph_val, 'g', label='Validation')\n",
        "plt.xlabel('n-estimators')\n",
        "plt.ylabel('Accuracy Score')\n",
        "plt.legend()\n",
        "plt.ylim(0.9,1)\n",
        "plt.show()"
      ],
      "metadata": {
        "colab": {
          "base_uri": "https://localhost:8080/",
          "height": 283
        },
        "id": "TIXcGcqdbFun",
        "outputId": "b915d522-72ff-46fb-c2de-b7c748115674"
      },
      "execution_count": 42,
      "outputs": [
        {
          "output_type": "display_data",
          "data": {
            "text/plain": [
              "<Figure size 432x288 with 1 Axes>"
            ],
            "image/png": "[encoded data removed]"
          },
          "metadata": {
            "needs_background": "light"
          }
        }
      ]
    }
  ],
  "metadata": {
    "colab": {
      "collapsed_sections": [],
      "provenance": []
    },
    "kernelspec": {
      "display_name": "Python 3",
      "name": "python3"
    },
    "language_info": {
      "name": "python"
    }
  },
  "nbformat": 4,
  "nbformat_minor": 0
}